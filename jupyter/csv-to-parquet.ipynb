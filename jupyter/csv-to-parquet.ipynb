{
 "cells": [
  {
   "cell_type": "code",
   "execution_count": null,
   "id": "2a478e54-1675-41ff-a904-d58d2d90a6b1",
   "metadata": {},
   "outputs": [],
   "source": [
    "%pip install duckdb humanize ipywidgets"
   ]
  },
  {
   "cell_type": "code",
   "execution_count": null,
   "id": "2ccba676-5cb1-4e27-aa93-43c5ea60bd92",
   "metadata": {},
   "outputs": [],
   "source": [
    "# duckdb provides a simple interface to convert csv to parquet\n",
    "import duckdb\n",
    "import os\n",
    "import humanize\n",
    "duckdb = duckdb.connect(\":memory:\", config={'threads': 2, 'memory_limit': '1.5GB', 'max_memory': '1.5GB', 'max_temp_directory_size': '50GB'})"
   ]
  },
  {
   "cell_type": "code",
   "execution_count": null,
   "id": "9398807b-1684-48f9-86e2-1a0305ff4617",
   "metadata": {},
   "outputs": [],
   "source": [
    "# convert csvs to parquet because a parquet file is typically 80% smaller than a csv\n",
    "for root, dirs, files in os.walk(\".\"):\n",
    "    for file in files:\n",
    "        if file.endswith('.csv'):\n",
    "            basename = os.path.join(root, os.path.splitext(file)[0])\n",
    "            if os.path.isfile(f\"{basename}.parquet\"):\n",
    "                print(f\"{basename}.parquet already exists\")\n",
    "                continue\n",
    "            csv_size = humanize.naturalsize(os.path.getsize(f\"{basename}.csv\"))\n",
    "            duckdb.query(f\"COPY (select * from read_csv('{basename}.csv')) TO '{basename}.parquet' (format parquet)\")\n",
    "            parquet_size = humanize.naturalsize(os.path.getsize(f\"{basename}.parquet\"))\n",
    "            print(f\"Converted {basename}.csv ({csv_size}) to {basename}.parquet ({parquet_size})\")"
   ]
  }
 ],
 "metadata": {
  "kernelspec": {
   "display_name": "Python 3 (ipykernel)",
   "language": "python",
   "name": "python3"
  },
  "language_info": {
   "codemirror_mode": {
    "name": "ipython",
    "version": 3
   },
   "file_extension": ".py",
   "mimetype": "text/x-python",
   "name": "python",
   "nbconvert_exporter": "python",
   "pygments_lexer": "ipython3",
   "version": "3.11.9"
  }
 },
 "nbformat": 4,
 "nbformat_minor": 5
}
