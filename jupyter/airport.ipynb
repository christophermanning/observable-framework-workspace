{
 "cells": [
  {
   "cell_type": "code",
   "execution_count": null,
   "id": "14da9a67-dc9e-4b8b-9db7-7bddfddb201f",
   "metadata": {},
   "outputs": [],
   "source": [
    "pip install pandas plot duckdb ipywidgets SQLAlchemy psycopg2-binary"
   ]
  },
  {
   "cell_type": "code",
   "execution_count": null,
   "id": "1b7ec8d5-57b1-4e5a-b1dd-276835e5b8fb",
   "metadata": {},
   "outputs": [],
   "source": [
    "# recommended resources for this notebook: >= 8 cpu and >= 4GB ram\n",
    "import pandas as pd\n",
    "import matplotlib.pyplot as plt\n",
    "import duckdb\n",
    "import glob\n",
    "from sqlalchemy import create_engine\n",
    "import os\n",
    "\n",
    "# use duck db for analytical queries\n",
    "# https://duckdb.org/docs/api/python/overview\n",
    "# https://duckdb.org/docs/guides/performance/environment\n",
    "# https://duckdb.org/docs/configuration/pragmas#resource-management\n",
    "duckdb = duckdb.connect(\":memory:\", config={'threads': 2, 'memory_limit': '1.5GB', 'max_memory': '1.5GB', 'max_temp_directory_size': '50GB'})\n",
    "\n",
    "# use a postgres database to share data between this notebook and observable-framework\n",
    "psql = create_engine(os.environ['PGURL'])"
   ]
  },
  {
   "cell_type": "code",
   "execution_count": null,
   "id": "54b93b1d-99b4-432b-b5dc-1cae18819d93",
   "metadata": {},
   "outputs": [],
   "source": [
    "# data source: https://geodata.bts.gov/datasets/usdot::t-100-domestic-market-and-segment-data/explore\n",
    "duckdb.query(\"\"\"\n",
    "create or replace table airport_stats as \n",
    "select \n",
    "origin as airport\n",
    ", passengers as total_passengers_2023 \n",
    "from read_csv('airport-data/T100_Domestic_Market_and_Segment_Data_*.csv')\n",
    "\"\"\")\n",
    "duckdb.query(\"select * from airport_stats\")"
   ]
  },
  {
   "cell_type": "code",
   "execution_count": null,
   "id": "a68ecf68-a19f-4641-bbc4-a93f9207ad2f",
   "metadata": {},
   "outputs": [],
   "source": [
    "# data source: https://data.bts.gov/Aviation/Airports/kfcv-nyy3/about_data\n",
    "duckdb.query(\"\"\"\n",
    "create or replace table top_airports as \n",
    "select \n",
    "airport_id as airport_id\n",
    ", airport as code\n",
    ", display_airport_name as display_airport_name\n",
    ", display_airport_city_name_full as display_airport_city_name_full\n",
    ", latitude as latitude\n",
    ", longitude as longitude\n",
    ", total_passengers_2023\n",
    "from read_csv('airport-data/airports.csv') \n",
    "\n",
    "-- only load the top airports\n",
    "join (select * from airport_stats order by total_passengers_2023 desc limit 50) using(airport)\n",
    "\n",
    "where\n",
    "airport_is_latest = 1\n",
    "and airport_is_closed = 0\n",
    "\"\"\")\n",
    "duckdb.query(\"select * from top_airports\")"
   ]
  },
  {
   "cell_type": "code",
   "execution_count": null,
   "id": "85bbd7b9-f160-4f4e-bd6b-5f0826f31afe",
   "metadata": {},
   "outputs": [],
   "source": [
    "duckdb.query(\"select * from top_airports\").df().to_sql('airports', psql, if_exists='replace', index=False)"
   ]
  },
  {
   "cell_type": "code",
   "execution_count": null,
   "id": "a76632e6-df53-4d4a-a158-1fdc4b6f8efa",
   "metadata": {},
   "outputs": [],
   "source": [
    "# data source: https://www.transtats.bts.gov/Fields.asp?gnoyr_VQ=FHK\n",
    "duckdb.query(\"\"\"\n",
    "create or replace table trips as \n",
    "select \n",
    "Year as year\n",
    ",Quarter as quarter\n",
    ",OriginAirportID as origin_airport_id\n",
    ",DestAirportID as dest_airport_id\n",
    ",Passengers::int as passengers\n",
    ",MktFare::int as mkt_fare\n",
    ",MktMilesFlown::int as mkt_miles_flown\n",
    "\n",
    "from read_csv('airport-data/Origin_and_Destination_Survey_DB1BMarket_*.csv')\n",
    "\"\"\")\n",
    "duckdb.query(\"select * from trips\")"
   ]
  },
  {
   "cell_type": "code",
   "execution_count": null,
   "id": "e7006782-8549-47d2-8c5c-047dd0fee698",
   "metadata": {},
   "outputs": [],
   "source": [
    "duckdb.query(\"\"\"\n",
    "create or replace table historical_routes as \n",
    "select \n",
    "    CONCAT(year,'-Q',quarter) as date\n",
    "    , passengers\n",
    "    , mkt_fare/passengers as fare\n",
    "    , fare/mkt_miles_flown as fare_per_mile\n",
    "    \n",
    "    , oa.code as origin_airport_code\n",
    "    , da.code as dest_airport_code\n",
    "    , oa.airport_id as origin_airport_id\n",
    "    , da.airport_id as dest_airport_id\n",
    "\n",
    "    , avg(fare) over(partition by date, origin_airport_id, dest_airport_id) as avg_fare\n",
    "    , stddev(fare) over(partition by date, origin_airport_id, dest_airport_id) as stddev_fare\n",
    "\n",
    "from trips t \n",
    "\n",
    "-- only load routes for the top airports\n",
    "join top_airports oa on oa.airport_id = t.origin_airport_id \n",
    "join top_airports da on da.airport_id = t.dest_airport_id\n",
    "\"\"\")\n",
    "duckdb.query(\"select * from historical_routes\")"
   ]
  },
  {
   "cell_type": "code",
   "execution_count": null,
   "id": "8b63e8a6-1595-40e2-8851-9c23c41b07f3",
   "metadata": {},
   "outputs": [],
   "source": [
    "duckdb.query(\"\"\"\n",
    "create or replace table arcs as \n",
    "select\n",
    "  array_to_string(list_sort(list_value(origin_airport_id, dest_airport_id)),'-') as arc_id\n",
    ", case when origin_airport_id < dest_airport_id then origin_airport_id else dest_airport_id end as min_airport_id\n",
    ", case when origin_airport_id > dest_airport_id then origin_airport_id else dest_airport_id end as max_airport_id\n",
    ", mode(mkt_miles_flown) as distance\n",
    "\n",
    "from trips t\n",
    "\n",
    "-- only load data for the top airports\n",
    "join top_airports oa on oa.airport_id = t.origin_airport_id \n",
    "join top_airports da on da.airport_id = t.dest_airport_id\n",
    "\n",
    "group by 1,2,3\n",
    "order by 1,2,3\n",
    "\"\"\")\n",
    "duckdb.query(\"select * from arcs\")"
   ]
  },
  {
   "cell_type": "code",
   "execution_count": null,
   "id": "868e0f7c-d2df-4c11-8ec5-b842b4e5938f",
   "metadata": {},
   "outputs": [],
   "source": [
    "duckdb.query(\"select * from arcs\").df().to_sql('arcs', psql, if_exists='replace', index=False)"
   ]
  },
  {
   "cell_type": "code",
   "execution_count": null,
   "id": "d2c12915-dff4-4024-b462-f0baad5911fd",
   "metadata": {},
   "outputs": [],
   "source": [
    "normalized_routes = duckdb.query(\"\"\"\n",
    "with route_passengers as (\n",
    "    -- select passengers separately because we want the total count regardless of fare outliers\n",
    "    -- source is only a 10% sample of airline tickets, so multiply passenger count by 10 to get a better total\n",
    "    select date, origin_airport_id, dest_airport_id, sum(passengers)*10 as total_passengers from historical_routes\n",
    "    group by 1,2,3\n",
    ")\n",
    ", route_aggs as (\n",
    "    select \n",
    "          date\n",
    "        , origin_airport_id\n",
    "        , dest_airport_id\n",
    "        , round(avg(fare),2) as average_fare\n",
    "        \n",
    "    from historical_routes\n",
    "    \n",
    "    where \n",
    "    -- remove fare outliers (first class, discount tickets)\n",
    "    fare between avg_fare - stddev_fare and avg_fare + stddev_fare\n",
    "    group by 1,2,3\n",
    ")\n",
    "\n",
    "select\n",
    "hra.*\n",
    ", p.total_passengers\n",
    ", array_to_string(list_sort(list_value(hra.origin_airport_id, hra.dest_airport_id)),'-') as arc_id\n",
    "from route_aggs hra\n",
    "join route_passengers p using(date, origin_airport_id, dest_airport_id)\n",
    "\n",
    "order by 1,2,3\n",
    "\"\"\").df()\n",
    "normalized_routes"
   ]
  },
  {
   "cell_type": "code",
   "execution_count": null,
   "id": "3c7daae1-736e-4935-933b-8f90beb50e3b",
   "metadata": {},
   "outputs": [],
   "source": [
    "normalized_routes.to_sql('historical_routes', psql, if_exists='replace', index=False)"
   ]
  },
  {
   "cell_type": "code",
   "execution_count": null,
   "id": "c419880a-bdf9-4aef-8084-fa945f98910f",
   "metadata": {},
   "outputs": [],
   "source": [
    "normalized_routes['average_fare'].plot(kind='hist', bins=100)"
   ]
  },
  {
   "cell_type": "code",
   "execution_count": null,
   "id": "c66bef4c-1e04-4429-b89a-494889197954",
   "metadata": {},
   "outputs": [],
   "source": [
    "normalized_routes['total_passengers'].plot(kind='hist', bins=100)"
   ]
  },
  {
   "cell_type": "code",
   "execution_count": null,
   "id": "44f5892d-ee07-4517-a391-c0961b1f712b",
   "metadata": {},
   "outputs": [],
   "source": [
    "# testing: compare published passenger count to the aggregated counts\n",
    "duckdb.query(\"\"\"\n",
    "with route_total as (\n",
    "    select year, airport_id, sum(total_passengers)*10 as total_passengers\n",
    "    from (\n",
    "        select year, origin_airport_id as airport_id, sum(passengers) as total_passengers\n",
    "        from trips\n",
    "        where year = 2023\n",
    "        group by 1,2\n",
    "        union\n",
    "        select year, dest_airport_id as airport_id, sum(passengers) as total_passengers\n",
    "        from trips\n",
    "        where year = 2023\n",
    "        group by 1,2\n",
    "    )\n",
    "    group by 1,2\n",
    ")\n",
    "select airport_id, total_passengers_2023, total_passengers\n",
    "from top_airports\n",
    "join route_total using(airport_id)\n",
    "order by 1\n",
    "\"\"\")"
   ]
  },
  {
   "cell_type": "code",
   "execution_count": null,
   "id": "76d27dda-1a2e-4037-995d-f69e30453598",
   "metadata": {},
   "outputs": [],
   "source": []
  }
 ],
 "metadata": {
  "kernelspec": {
   "display_name": "Python 3 (ipykernel)",
   "language": "python",
   "name": "python3"
  },
  "language_info": {
   "codemirror_mode": {
    "name": "ipython",
    "version": 3
   },
   "file_extension": ".py",
   "mimetype": "text/x-python",
   "name": "python",
   "nbconvert_exporter": "python",
   "pygments_lexer": "ipython3",
   "version": "3.11.9"
  }
 },
 "nbformat": 4,
 "nbformat_minor": 5
}
